{
 "cells": [
  {
   "cell_type": "code",
   "execution_count": 1,
   "metadata": {},
   "outputs": [],
   "source": [
    "# IMPORTS\n",
    "import numpy as np\n",
    "import pandas as pd\n",
    "import os\n",
    "import git\n",
    "import sqlalchemy\n",
    "import pyodbc "
   ]
  },
  {
   "cell_type": "code",
   "execution_count": 40,
   "metadata": {},
   "outputs": [],
   "source": [
    "# CONSTANTS\n",
    "SOURCE_URL = 'https://github.com/CSSEGISandData/COVID-19'\n",
    "DAILY_REPORTS_TABLE_NAME = 'covid_daily_reports'\n",
    "DAILY_REPORTS_US_TABLE_NAME = 'covid_daily_reports_us'\n",
    "DAILY_REPORTS_COLUMN_NAMES = ['FIPS', 'Admin2', 'Province_State', 'Country_Region', 'Last_Update',\n",
    "       'Lat', 'Long_', 'Confirmed', 'Deaths', 'Recovered', 'Active',\n",
    "       'Combined_Key', 'Incident_Rate', 'Case_Fatality_Ratio']\n",
    "DAILY_REPORTS_US_COLUMN_NAMES = ['Province_State', 'Country_Region', 'Last_Update', 'Lat', 'Long_', \n",
    "       'Confirmed', 'Deaths', 'Recovered', 'Active', 'FIPS', 'Incident_Rate', 'Total_Test_Results',\n",
    "       'People_Hospitalized', 'Case_Fatality_Ratio', 'UID', 'ISO3', 'Testing_Rate', 'Hospitalization_Rate']\n",
    "RESULT_CSV = '../processed_data/covid_daily'\n",
    "RESULT_CSV_US = '../processed_data/covid_daily_US'"
   ]
  },
  {
   "cell_type": "markdown",
   "metadata": {},
   "source": [
    "## **Подключение и скачивание данных с БД**"
   ]
  },
  {
   "cell_type": "code",
   "execution_count": 3,
   "metadata": {},
   "outputs": [],
   "source": [
    "# DB CONFIG\n",
    "SERVER_NAME = 'HOME-PC'\n",
    "DB_NAME = 'covid'"
   ]
  },
  {
   "cell_type": "code",
   "execution_count": 4,
   "metadata": {},
   "outputs": [],
   "source": [
    "# DB connect\n",
    "from sqlalchemy.engine import URL\n",
    "connection_string = 'DRIVER={ODBC Driver 17 for SQL Server};SERVER='+SERVER_NAME+';DATABASE='+DB_NAME+';Trusted_Connection=yes;'\n",
    "connection_url = URL.create(\"mssql+pyodbc\", query={\"odbc_connect\": connection_string})\n",
    "\n",
    "engine = sqlalchemy.create_engine(connection_url)"
   ]
  },
  {
   "cell_type": "code",
   "execution_count": 6,
   "metadata": {},
   "outputs": [],
   "source": [
    "covidDfUs = pd.read_sql('covid_daily_reports_us', engine)\n",
    "covidDf = pd.read_sql('covid_daily_reports', engine)"
   ]
  },
  {
   "cell_type": "markdown",
   "metadata": {},
   "source": [
    "## **Информация по пустым значениям**"
   ]
  },
  {
   "cell_type": "code",
   "execution_count": 35,
   "metadata": {},
   "outputs": [
    {
     "name": "stdout",
     "output_type": "stream",
     "text": [
      "Province_State              0\n",
      "Country_Region              0\n",
      "Last_Update                10\n",
      "Lat                      1090\n",
      "Long_                    1090\n",
      "Confirmed                   0\n",
      "Deaths                      0\n",
      "Recovered                   0\n",
      "Active                      0\n",
      "FIPS                        1\n",
      "Incident_Rate            1090\n",
      "Total_Test_Results       1108\n",
      "People_Hospitalized     26476\n",
      "Case_Fatality_Ratio       540\n",
      "UID                         0\n",
      "ISO3                        0\n",
      "Testing_Rate             1108\n",
      "Hospitalization_Rate    26476\n",
      "dtype: int64\n"
     ]
    }
   ],
   "source": [
    "# Us таблица\n",
    "print((covidDfUs.isnull()).sum())"
   ]
  },
  {
   "cell_type": "code",
   "execution_count": 36,
   "metadata": {},
   "outputs": [
    {
     "name": "stdout",
     "output_type": "stream",
     "text": [
      "FIPS                   360647\n",
      "Admin2                 358208\n",
      "Province_State          85874\n",
      "Country_Region              0\n",
      "Last_Update                 0\n",
      "Lat                     40280\n",
      "Long_                   40280\n",
      "Confirmed                   0\n",
      "Deaths                      0\n",
      "Recovered                   0\n",
      "Active                      0\n",
      "Combined_Key                0\n",
      "Incident_Rate           40898\n",
      "Case_Fatality_Ratio     21225\n",
      "dtype: int64\n"
     ]
    }
   ],
   "source": [
    "# Общая таблица\n",
    "print((covidDf.isnull()).sum())"
   ]
  },
  {
   "cell_type": "markdown",
   "metadata": {},
   "source": [
    "## **Функции**"
   ]
  },
  {
   "cell_type": "code",
   "execution_count": 9,
   "metadata": {},
   "outputs": [],
   "source": [
    "def ChangeColumnType(column, typeName, df):\n",
    "    df[column] = df[column].astype(typeName)\n",
    "\n",
    "def DropLinesLessThanZero(df, columnName):\n",
    "    return df.drop(df.index[df[columnName] < 0]) \n",
    "\n",
    "def FillMeanValues(df, column):\n",
    "    df[column] = df[column].fillna(df[column].mean())\n",
    "    return df[column]"
   ]
  },
  {
   "cell_type": "markdown",
   "metadata": {},
   "source": [
    "## **Сразу удаляем строки с отсутствующими датами, так как их восстановить не получится**"
   ]
  },
  {
   "cell_type": "code",
   "execution_count": null,
   "metadata": {},
   "outputs": [],
   "source": [
    "# Удаляем строки с неопределенной датой.\n",
    "covidDfUs = covidDfUs.dropna(subset=['Last_Update'])"
   ]
  },
  {
   "cell_type": "markdown",
   "metadata": {},
   "source": [
    "## **Смотрим корректность дат**\n",
    "Не должно быть дат ниже 20-го и больше 21-го года "
   ]
  },
  {
   "cell_type": "code",
   "execution_count": 12,
   "metadata": {},
   "outputs": [
    {
     "name": "stdout",
     "output_type": "stream",
     "text": [
      "covidDf: \n",
      " count                 1982397\n",
      "unique                    577\n",
      "top       2020-11-29 05:25:55\n",
      "freq                     3995\n",
      "first     2020-05-30 02:32:48\n",
      "last      2021-10-11 04:21:31\n",
      "Name: Last_Update, dtype: object\n",
      "\n",
      "covidDfUs: \n",
      " count                   31609\n",
      "unique                    713\n",
      "top       2020-04-25 06:32:46\n",
      "freq                       59\n",
      "first     2020-04-12 23:18:15\n",
      "last      2021-10-11 04:31:18\n",
      "Name: Last_Update, dtype: object\n"
     ]
    },
    {
     "name": "stderr",
     "output_type": "stream",
     "text": [
      "C:\\Temp/ipykernel_21276/3082267031.py:1: FutureWarning: Treating datetime data as categorical rather than numeric in `.describe` is deprecated and will be removed in a future version of pandas. Specify `datetime_is_numeric=True` to silence this warning and adopt the future behavior now.\n",
      "  print(f\"covidDf: \\n {covidDf['Last_Update'].describe()}\")\n",
      "C:\\Temp/ipykernel_21276/3082267031.py:2: FutureWarning: Treating datetime data as categorical rather than numeric in `.describe` is deprecated and will be removed in a future version of pandas. Specify `datetime_is_numeric=True` to silence this warning and adopt the future behavior now.\n",
      "  print(f\"\\ncovidDfUs: \\n {covidDfUs['Last_Update'].describe()}\")\n"
     ]
    }
   ],
   "source": [
    "print(f\"covidDf: \\n {covidDf['Last_Update'].describe()}\")\n",
    "print(f\"\\ncovidDfUs: \\n {covidDfUs['Last_Update'].describe()}\")"
   ]
  },
  {
   "cell_type": "markdown",
   "metadata": {},
   "source": [
    "## **Смотрим на отрицательные значения в полях Death, Recovered, Active**"
   ]
  },
  {
   "cell_type": "code",
   "execution_count": 32,
   "metadata": {},
   "outputs": [
    {
     "name": "stdout",
     "output_type": "stream",
     "text": [
      "covidDf( death_count: 2;\n",
      " recovered_count: 3;\n",
      " active_count: 3529;\n",
      ")\n",
      "covidDfUs( death_count: 0;\n",
      " recovered_count: 0;\n",
      " active_count: 24;\n",
      ")\n"
     ]
    }
   ],
   "source": [
    "print(f\"covidDf( death_count: {covidDf[covidDf['Deaths'] < 0]['Deaths'].size};\\n recovered_count: {covidDf[covidDf['Recovered'] < 0]['Recovered'].size};\\n active_count: {covidDf[covidDf['Active'] < 0]['Active'].size};\\n)\")\n",
    "print(f\"covidDfUs( death_count: {covidDfUs[covidDfUs['Deaths'] < 0]['Deaths'].size};\\n recovered_count: {covidDfUs[covidDfUs['Recovered'] < 0]['Recovered'].size};\\n active_count: {covidDfUs[covidDfUs['Active'] < 0]['Active'].size};\\n)\")"
   ]
  },
  {
   "cell_type": "markdown",
   "metadata": {},
   "source": [
    "## **Удаляем строки в которых есть отрицательные значения**"
   ]
  },
  {
   "cell_type": "code",
   "execution_count": 33,
   "metadata": {},
   "outputs": [],
   "source": [
    "covidDf = DropLinesLessThanZero(covidDf, 'Deaths')\n",
    "covidDfUs = DropLinesLessThanZero(covidDfUs, 'Deaths')\n",
    "covidDf = DropLinesLessThanZero(covidDf, 'Recovered')\n",
    "covidDfUs = DropLinesLessThanZero(covidDfUs, 'Active')\n",
    "covidDfUs = DropLinesLessThanZero(covidDfUs, 'Recovered')\n",
    "covidDf = DropLinesLessThanZero(covidDf, 'Active')"
   ]
  },
  {
   "cell_type": "markdown",
   "metadata": {},
   "source": [
    "## **Заполняем все неизвестные поля средним значением**"
   ]
  },
  {
   "cell_type": "code",
   "execution_count": 34,
   "metadata": {},
   "outputs": [],
   "source": [
    "covidDf['Deaths'] = FillMeanValues(covidDf, 'Deaths')\n",
    "covidDf['Recovered'] = FillMeanValues(covidDf, 'Recovered')\n",
    "covidDf['Active'] = FillMeanValues(covidDf, 'Active')\n",
    "covidDfUs['Deaths'] = FillMeanValues(covidDfUs, 'Deaths')\n",
    "covidDfUs['Recovered'] = FillMeanValues(covidDfUs, 'Recovered')\n",
    "covidDfUs['Active'] = FillMeanValues(covidDfUs, 'Active')"
   ]
  },
  {
   "cell_type": "markdown",
   "metadata": {},
   "source": [
    "## **Смотрим информацию по типам данных**\n",
    "\n",
    "Некоторые строковые поля записаны как \"object\".\n",
    "А некоторые целочисленные поля записаны как \"float64\"."
   ]
  },
  {
   "cell_type": "code",
   "execution_count": 37,
   "metadata": {},
   "outputs": [
    {
     "name": "stdout",
     "output_type": "stream",
     "text": [
      "<class 'pandas.core.frame.DataFrame'>\n",
      "Int64Index: 31604 entries, 0 to 31627\n",
      "Data columns (total 18 columns):\n",
      " #   Column                Non-Null Count  Dtype         \n",
      "---  ------                --------------  -----         \n",
      " 0   Province_State        31604 non-null  object        \n",
      " 1   Country_Region        31604 non-null  object        \n",
      " 2   Last_Update           31594 non-null  datetime64[ns]\n",
      " 3   Lat                   30514 non-null  float64       \n",
      " 4   Long_                 30514 non-null  float64       \n",
      " 5   Confirmed             31604 non-null  int64         \n",
      " 6   Deaths                31604 non-null  int64         \n",
      " 7   Recovered             31604 non-null  float64       \n",
      " 8   Active                31604 non-null  float64       \n",
      " 9   FIPS                  31603 non-null  float64       \n",
      " 10  Incident_Rate         30514 non-null  float64       \n",
      " 11  Total_Test_Results    30496 non-null  float64       \n",
      " 12  People_Hospitalized   5128 non-null   float64       \n",
      " 13  Case_Fatality_Ratio   31064 non-null  float64       \n",
      " 14  UID                   31604 non-null  float64       \n",
      " 15  ISO3                  31604 non-null  object        \n",
      " 16  Testing_Rate          30496 non-null  float64       \n",
      " 17  Hospitalization_Rate  5128 non-null   float64       \n",
      "dtypes: datetime64[ns](1), float64(12), int64(2), object(3)\n",
      "memory usage: 5.6+ MB\n"
     ]
    }
   ],
   "source": [
    "covidDfUs.info()"
   ]
  },
  {
   "cell_type": "code",
   "execution_count": 38,
   "metadata": {},
   "outputs": [
    {
     "name": "stdout",
     "output_type": "stream",
     "text": [
      "<class 'pandas.core.frame.DataFrame'>\n",
      "Int64Index: 1978865 entries, 0 to 1982396\n",
      "Data columns (total 14 columns):\n",
      " #   Column               Dtype         \n",
      "---  ------               -----         \n",
      " 0   FIPS                 float64       \n",
      " 1   Admin2               object        \n",
      " 2   Province_State       object        \n",
      " 3   Country_Region       object        \n",
      " 4   Last_Update          datetime64[ns]\n",
      " 5   Lat                  float64       \n",
      " 6   Long_                float64       \n",
      " 7   Confirmed            int64         \n",
      " 8   Deaths               float64       \n",
      " 9   Recovered            float64       \n",
      " 10  Active               float64       \n",
      " 11  Combined_Key         object        \n",
      " 12  Incident_Rate        float64       \n",
      " 13  Case_Fatality_Ratio  float64       \n",
      "dtypes: datetime64[ns](1), float64(8), int64(1), object(4)\n",
      "memory usage: 226.5+ MB\n"
     ]
    }
   ],
   "source": [
    "covidDf.info()"
   ]
  },
  {
   "cell_type": "markdown",
   "metadata": {},
   "source": [
    "## **Исправляем неверные типы данных**"
   ]
  },
  {
   "cell_type": "code",
   "execution_count": 39,
   "metadata": {},
   "outputs": [],
   "source": [
    "ChangeColumnType('Deaths', 'int64', covidDf)\n",
    "ChangeColumnType('Deaths', 'int64', covidDfUs)\n",
    "ChangeColumnType('Recovered', 'int64', covidDf)\n",
    "ChangeColumnType('Recovered', 'int64', covidDfUs)\n",
    "ChangeColumnType('Active', 'int64', covidDfUs)\n",
    "ChangeColumnType('Active', 'int64', covidDf)\n",
    "\n",
    "for column in covidDfUs.columns:\n",
    "    if (covidDfUs[column].dtype == 'object'):\n",
    "        ChangeColumnType(column, 'string', covidDfUs)\n",
    "        \n",
    "for column in covidDf.columns:\n",
    "    if (covidDf[column].dtype == 'object'):\n",
    "        ChangeColumnType(column, 'string', covidDf)"
   ]
  },
  {
   "cell_type": "markdown",
   "metadata": {},
   "source": [
    "## **Сохраняем данные в файлы**"
   ]
  },
  {
   "cell_type": "code",
   "execution_count": 42,
   "metadata": {},
   "outputs": [],
   "source": [
    "covidDfUs.to_csv(RESULT_CSV_US, index=False)\n",
    "covidDf.to_csv(RESULT_CSV, index=False)\n"
   ]
  }
 ],
 "metadata": {
  "interpreter": {
   "hash": "44fa8e266227c2c4a5a2e1ea3fead5e9002fd58a39e751d1552653fef8deed20"
  },
  "kernelspec": {
   "display_name": "Python 3.9.7 64-bit",
   "language": "python",
   "name": "python3"
  },
  "language_info": {
   "codemirror_mode": {
    "name": "ipython",
    "version": 3
   },
   "file_extension": ".py",
   "mimetype": "text/x-python",
   "name": "python",
   "nbconvert_exporter": "python",
   "pygments_lexer": "ipython3",
   "version": "3.9.7"
  },
  "orig_nbformat": 4
 },
 "nbformat": 4,
 "nbformat_minor": 2
}
