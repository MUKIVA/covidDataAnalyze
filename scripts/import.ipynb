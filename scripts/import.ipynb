{
 "cells": [
  {
   "cell_type": "code",
   "execution_count": 16,
   "metadata": {},
   "outputs": [],
   "source": [
    "# IMPORTS\n",
    "import numpy as np\n",
    "import pandas as pd\n",
    "import os\n",
    "import git\n",
    "import sqlalchemy\n",
    "import pyodbc "
   ]
  },
  {
   "cell_type": "code",
   "execution_count": 17,
   "metadata": {},
   "outputs": [],
   "source": [
    "# CONSTANTS\n",
    "SOURCE_URL = 'https://github.com/CSSEGISandData/COVID-19'\n",
    "DATA_PATH = '../data'\n",
    "DAILY_REPORTS_PATH = f\"{DATA_PATH}/csse_covid_19_data/csse_covid_19_daily_reports\"\n",
    "DAILY_REPORTS_TABLE_NAME = 'covid_daily_reports'\n",
    "DAILY_REPORTS_US_TABLE_NAME = 'covid_daily_reports_us'\n",
    "DAILY_REPORTS_US_PATH = f\"{DATA_PATH}/csse_covid_19_data/csse_covid_19_daily_reports_us\"\n",
    "DAILY_REPORTS_COLUMN_NAMES = ['FIPS', 'Admin2', 'Province_State', 'Country_Region', 'Last_Update',\n",
    "       'Lat', 'Long_', 'Confirmed', 'Deaths', 'Recovered', 'Active',\n",
    "       'Combined_Key', 'Incident_Rate', 'Case_Fatality_Ratio']\n",
    "DAILY_REPORTS_US_COLUMN_NAMES = ['Province_State', 'Country_Region', 'Last_Update', 'Lat', 'Long_', \n",
    "       'Confirmed', 'Deaths', 'Recovered', 'Active', 'FIPS', 'Incident_Rate', 'Total_Test_Results',\n",
    "       'People_Hospitalized', 'Case_Fatality_Ratio', 'UID', 'ISO3', 'Testing_Rate', 'Hospitalization_Rate']\n"
   ]
  },
  {
   "cell_type": "markdown",
   "metadata": {},
   "source": [
    "Настройки подключения к БД"
   ]
  },
  {
   "cell_type": "code",
   "execution_count": null,
   "metadata": {},
   "outputs": [],
   "source": [
    "# DB CONFIG\n",
    "SERVER_NAME = 'HOME-PC'\n",
    "DB_NAME = 'covid'"
   ]
  },
  {
   "cell_type": "markdown",
   "metadata": {},
   "source": [
    "Клонируем репозиторий с данными для этого нужно импортировать git.\n",
    "Если гита нет то установить pip install gitpython"
   ]
  },
  {
   "cell_type": "code",
   "execution_count": 3,
   "metadata": {},
   "outputs": [],
   "source": [
    "# Git clone\n",
    "if not(os.path.exists(DATA_PATH)) or (not os.listdir(DATA_PATH)):\n",
    "    git.Repo.clone_from(SOURCE_URL, DATA_PATH)"
   ]
  },
  {
   "cell_type": "markdown",
   "metadata": {},
   "source": [
    "Настраиваем соединение с базой данны. Так как используем mssql нужен специальный драйвер для настройки соединения.\n",
    "Также sqlalchemy поддерживает работу с pyodbc для более простой записи данных."
   ]
  },
  {
   "cell_type": "code",
   "execution_count": 10,
   "metadata": {},
   "outputs": [],
   "source": [
    "# DB connect\n",
    "from sqlalchemy.engine import URL\n",
    "connection_string = 'DRIVER={ODBC Driver 17 for SQL Server};SERVER='+SERVER_NAME+';DATABASE='+DB_NAME+';Trusted_Connection=yes;'\n",
    "connection_url = URL.create(\"mssql+pyodbc\", query={\"odbc_connect\": connection_string})\n",
    "\n",
    "engine = sqlalchemy.create_engine(connection_url)"
   ]
  },
  {
   "cell_type": "markdown",
   "metadata": {},
   "source": [
    "Далее описана функция для записи данных в таблицу."
   ]
  },
  {
   "cell_type": "code",
   "execution_count": 54,
   "metadata": {},
   "outputs": [],
   "source": [
    "def write_data(table_name, column_names, csv_folder_path, engine):\n",
    "    for filename in os.listdir(csv_folder_path):\n",
    "        if filename.endswith('.csv'):\n",
    "            df = pd.read_csv(f\"{csv_folder_path}/{filename}\", header=None, skiprows=1)\n",
    "            try:\n",
    "                df.columns = column_names\n",
    "                df.to_sql(\n",
    "                    name=table_name,\n",
    "                    con=engine,\n",
    "                    index=False,\n",
    "                    if_exists='append'\n",
    "                )\n",
    "            except:\n",
    "                continue\n"
   ]
  },
  {
   "cell_type": "markdown",
   "metadata": {},
   "source": [
    "Записываем данные в две разные таблицы"
   ]
  },
  {
   "cell_type": "code",
   "execution_count": 55,
   "metadata": {},
   "outputs": [],
   "source": [
    "write_data(DAILY_REPORTS_TABLE_NAME, DAILY_REPORTS_COLUMN_NAMES, DAILY_REPORTS_PATH, engine)\n",
    "write_data(DAILY_REPORTS_US_TABLE_NAME, DAILY_REPORTS_US_COLUMN_NAMES, DAILY_REPORTS_US_PATH, engine)"
   ]
  }
 ],
 "metadata": {
  "interpreter": {
   "hash": "44fa8e266227c2c4a5a2e1ea3fead5e9002fd58a39e751d1552653fef8deed20"
  },
  "kernelspec": {
   "display_name": "Python 3.9.7 64-bit",
   "name": "python3"
  },
  "language_info": {
   "codemirror_mode": {
    "name": "ipython",
    "version": 3
   },
   "file_extension": ".py",
   "mimetype": "text/x-python",
   "name": "python",
   "nbconvert_exporter": "python",
   "pygments_lexer": "ipython3",
   "version": "3.9.7"
  },
  "orig_nbformat": 4
 },
 "nbformat": 4,
 "nbformat_minor": 2
}
