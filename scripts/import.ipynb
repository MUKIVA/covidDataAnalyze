{
 "cells": [
  {
   "cell_type": "code",
   "execution_count": 1,
   "metadata": {},
   "outputs": [],
   "source": [
    "# IMPORTS\n",
    "import numpy as np\n",
    "import pandas as pd\n",
    "import os\n",
    "import git\n",
    "import sqlalchemy\n",
    "import pyodbc "
   ]
  },
  {
   "cell_type": "code",
   "execution_count": 2,
   "metadata": {},
   "outputs": [],
   "source": [
    "# CONSTANTS\n",
    "SOURCE_URL = 'https://github.com/CSSEGISandData/COVID-19'\n",
    "DATA_PATH = '../data'\n",
    "DAILY_REPORTS_PATH = f\"{DATA_PATH}/csse_covid_19_data/csse_covid_19_daily_reports\"\n",
    "DAILY_REPORTS_TABLE_NAME = 'covid_daily_reports'\n",
    "DAILY_REPORTS_US_TABLE_NAME = 'covid_daily_reports_us'\n",
    "DAILY_REPORTS_US_PATH = f\"{DATA_PATH}/csse_covid_19_data/csse_covid_19_daily_reports_us\"\n",
    "DAILY_REPORTS_COLUMN_NAMES = ['FIPS', 'Admin2', 'Province_State', 'Country_Region', 'Last_Update',\n",
    "       'Lat', 'Long_', 'Confirmed', 'Deaths', 'Recovered', 'Active',\n",
    "       'Combined_Key', 'Incident_Rate', 'Case_Fatality_Ratio']\n",
    "DAILY_REPORTS_US_COLUMN_NAMES = ['Province_State', 'Country_Region', 'Last_Update', 'Lat', 'Long_', \n",
    "       'Confirmed', 'Deaths', 'Recovered', 'Active', 'FIPS', 'Incident_Rate', 'Total_Test_Results',\n",
    "       'People_Hospitalized', 'Case_Fatality_Ratio', 'UID', 'ISO3', 'Testing_Rate', 'Hospitalization_Rate']\n"
   ]
  },
  {
   "cell_type": "markdown",
   "metadata": {},
   "source": [
    "Настройки подключения к БД"
   ]
  },
  {
   "cell_type": "code",
   "execution_count": 3,
   "metadata": {},
   "outputs": [],
   "source": [
    "# DB CONFIG\n",
    "SERVER_NAME = 'HOME-PC'\n",
    "DB_NAME = 'covid'"
   ]
  },
  {
   "cell_type": "markdown",
   "metadata": {},
   "source": [
    "Клонируем репозиторий с данными для этого нужно импортировать git.\n",
    "Если гита нет то установить pip install gitpython"
   ]
  },
  {
   "cell_type": "code",
   "execution_count": 4,
   "metadata": {},
   "outputs": [],
   "source": [
    "# Git clone\n",
    "if not(os.path.exists(DATA_PATH)) or (not os.listdir(DATA_PATH)):\n",
    "    git.Repo.clone_from(SOURCE_URL, DATA_PATH)"
   ]
  },
  {
   "cell_type": "markdown",
   "metadata": {},
   "source": [
    "Настраиваем соединение с базой данны. Так как используем mssql нужен специальный драйвер для настройки соединения.\n",
    "Также sqlalchemy поддерживает работу с pyodbc для более простой записи данных."
   ]
  },
  {
   "cell_type": "code",
   "execution_count": 4,
   "metadata": {},
   "outputs": [],
   "source": [
    "# DB connect\n",
    "from sqlalchemy.engine import URL\n",
    "connection_string = 'DRIVER={ODBC Driver 17 for SQL Server};SERVER='+SERVER_NAME+';DATABASE='+DB_NAME+';Trusted_Connection=yes;'\n",
    "connection_url = URL.create(\"mssql+pyodbc\", query={\"odbc_connect\": connection_string})\n",
    "\n",
    "engine = sqlalchemy.create_engine(connection_url)"
   ]
  },
  {
   "cell_type": "markdown",
   "metadata": {},
   "source": [
    "Далее описана функция для записи данных в таблицу."
   ]
  },
  {
   "cell_type": "code",
   "execution_count": 54,
   "metadata": {},
   "outputs": [],
   "source": [
    "def write_data(table_name, column_names, csv_folder_path, engine):\n",
    "    for filename in os.listdir(csv_folder_path):\n",
    "        if filename.endswith('.csv'):\n",
    "            df = pd.read_csv(f\"{csv_folder_path}/{filename}\", header=None, skiprows=1)\n",
    "            try:\n",
    "                df.columns = column_names\n",
    "                df.to_sql(\n",
    "                    name=table_name,\n",
    "                    con=engine,\n",
    "                    index=False,\n",
    "                    if_exists='append'\n",
    "                )\n",
    "            except:\n",
    "                continue\n"
   ]
  },
  {
   "cell_type": "markdown",
   "metadata": {},
   "source": [
    "Записываем данные в две разные таблицы"
   ]
  },
  {
   "cell_type": "code",
   "execution_count": 55,
   "metadata": {},
   "outputs": [],
   "source": [
    "write_data(DAILY_REPORTS_TABLE_NAME, DAILY_REPORTS_COLUMN_NAMES, DAILY_REPORTS_PATH, engine)\n",
    "write_data(DAILY_REPORTS_US_TABLE_NAME, DAILY_REPORTS_US_COLUMN_NAMES, DAILY_REPORTS_US_PATH, engine)"
   ]
  },
  {
   "cell_type": "code",
   "execution_count": 98,
   "metadata": {},
   "outputs": [],
   "source": [
    "covidDfUs = pd.read_sql('covid_daily_reports_us', engine)\n",
    "covidDf = pd.read_sql('covid_daily_reports', engine)"
   ]
  },
  {
   "cell_type": "code",
   "execution_count": 114,
   "metadata": {},
   "outputs": [
    {
     "name": "stdout",
     "output_type": "stream",
     "text": [
      "Province_State              0\n",
      "Country_Region              0\n",
      "Last_Update                 0\n",
      "Lat                      1090\n",
      "Long_                    1090\n",
      "Confirmed                   0\n",
      "Deaths                      0\n",
      "Recovered                   0\n",
      "Active                      0\n",
      "FIPS                        0\n",
      "Incident_Rate            1090\n",
      "Total_Test_Results       1108\n",
      "People_Hospitalized     26467\n",
      "Case_Fatality_Ratio       531\n",
      "UID                         0\n",
      "ISO3                        0\n",
      "Testing_Rate             1108\n",
      "Hospitalization_Rate    26467\n",
      "dtype: int64\n"
     ]
    }
   ],
   "source": [
    "# Информация по пустым значениям\n",
    "print((covidDfUs.isnull()).sum())"
   ]
  },
  {
   "cell_type": "code",
   "execution_count": 115,
   "metadata": {},
   "outputs": [
    {
     "name": "stdout",
     "output_type": "stream",
     "text": [
      "FIPS                   360647\n",
      "Admin2                 358208\n",
      "Province_State          85874\n",
      "Country_Region              0\n",
      "Last_Update                 0\n",
      "Lat                     40280\n",
      "Long_                   40280\n",
      "Confirmed                   0\n",
      "Deaths                      0\n",
      "Recovered                   0\n",
      "Active                      0\n",
      "Combined_Key                0\n",
      "Incident_Rate           40898\n",
      "Case_Fatality_Ratio     21225\n",
      "dtype: int64\n"
     ]
    }
   ],
   "source": [
    "# Информация по пустым значениям\n",
    "print((covidDf.isnull()).sum())"
   ]
  },
  {
   "cell_type": "code",
   "execution_count": 118,
   "metadata": {},
   "outputs": [
    {
     "name": "stdout",
     "output_type": "stream",
     "text": [
      "<class 'pandas.core.frame.DataFrame'>\n",
      "Int64Index: 31594 entries, 0 to 31627\n",
      "Data columns (total 18 columns):\n",
      " #   Column                Non-Null Count  Dtype         \n",
      "---  ------                --------------  -----         \n",
      " 0   Province_State        31594 non-null  string        \n",
      " 1   Country_Region        31594 non-null  string        \n",
      " 2   Last_Update           31594 non-null  datetime64[ns]\n",
      " 3   Lat                   30504 non-null  float64       \n",
      " 4   Long_                 30504 non-null  float64       \n",
      " 5   Confirmed             31594 non-null  int64         \n",
      " 6   Deaths                31594 non-null  int64         \n",
      " 7   Recovered             31594 non-null  int64         \n",
      " 8   Active                31594 non-null  int64         \n",
      " 9   FIPS                  31594 non-null  float64       \n",
      " 10  Incident_Rate         30504 non-null  float64       \n",
      " 11  Total_Test_Results    30486 non-null  float64       \n",
      " 12  People_Hospitalized   5127 non-null   float64       \n",
      " 13  Case_Fatality_Ratio   31063 non-null  float64       \n",
      " 14  UID                   31594 non-null  float64       \n",
      " 15  ISO3                  31594 non-null  string        \n",
      " 16  Testing_Rate          30486 non-null  float64       \n",
      " 17  Hospitalization_Rate  5127 non-null   float64       \n",
      "dtypes: datetime64[ns](1), float64(10), int64(4), string(3)\n",
      "memory usage: 5.6 MB\n"
     ]
    }
   ],
   "source": [
    "covidDfUs.info()"
   ]
  },
  {
   "cell_type": "code",
   "execution_count": 117,
   "metadata": {},
   "outputs": [
    {
     "name": "stdout",
     "output_type": "stream",
     "text": [
      "<class 'pandas.core.frame.DataFrame'>\n",
      "Int64Index: 1978865 entries, 0 to 1982396\n",
      "Data columns (total 14 columns):\n",
      " #   Column               Dtype         \n",
      "---  ------               -----         \n",
      " 0   FIPS                 float64       \n",
      " 1   Admin2               string        \n",
      " 2   Province_State       string        \n",
      " 3   Country_Region       string        \n",
      " 4   Last_Update          datetime64[ns]\n",
      " 5   Lat                  float64       \n",
      " 6   Long_                float64       \n",
      " 7   Confirmed            int64         \n",
      " 8   Deaths               int64         \n",
      " 9   Recovered            int64         \n",
      " 10  Active               int64         \n",
      " 11  Combined_Key         string        \n",
      " 12  Incident_Rate        float64       \n",
      " 13  Case_Fatality_Ratio  float64       \n",
      "dtypes: datetime64[ns](1), float64(5), int64(4), string(4)\n",
      "memory usage: 226.5 MB\n"
     ]
    }
   ],
   "source": [
    "covidDf.info()"
   ]
  },
  {
   "cell_type": "code",
   "execution_count": 120,
   "metadata": {},
   "outputs": [],
   "source": [
    "def ChangeColumnType(column, typeName, df):\n",
    "    df[column] = df[column].astype(typeName)\n",
    "\n",
    "def DropLinesLessThanZero(df, columnName):\n",
    "    return df.drop(df.index[df[columnName] < 0]) \n",
    "\n",
    "def FillMeanValues(df, column):\n",
    "    df[column] = df[column].fillna(df[column].mean())\n",
    "    return df[column]"
   ]
  },
  {
   "cell_type": "code",
   "execution_count": 104,
   "metadata": {},
   "outputs": [],
   "source": [
    "for column in covidDfUs.columns:\n",
    "    if (covidDfUs[column].dtype == 'object'):\n",
    "        ChangeColumnType(column, 'string', covidDfUs)\n",
    "        \n",
    "for column in covidDf.columns:\n",
    "    if (covidDf[column].dtype == 'object'):\n",
    "        ChangeColumnType(column, 'string', covidDf)"
   ]
  },
  {
   "cell_type": "code",
   "execution_count": 106,
   "metadata": {},
   "outputs": [],
   "source": [
    "# Удаляем строки с неопределенной датой.\n",
    "covidDfUs = covidDfUs.dropna(subset=['Last_Update'])"
   ]
  },
  {
   "cell_type": "code",
   "execution_count": 107,
   "metadata": {},
   "outputs": [
    {
     "name": "stdout",
     "output_type": "stream",
     "text": [
      "covidDf: \n",
      " count                 1982397\n",
      "unique                    577\n",
      "top       2020-11-29 05:25:55\n",
      "freq                     3995\n",
      "first     2020-05-30 02:32:48\n",
      "last      2021-10-11 04:21:31\n",
      "Name: Last_Update, dtype: object\n",
      "\n",
      "covidDfUs: \n",
      " count                   31609\n",
      "unique                    713\n",
      "top       2020-04-25 06:32:46\n",
      "freq                       59\n",
      "first     2020-04-12 23:18:15\n",
      "last      2021-10-11 04:31:18\n",
      "Name: Last_Update, dtype: object\n"
     ]
    },
    {
     "name": "stderr",
     "output_type": "stream",
     "text": [
      "C:\\Temp/ipykernel_20108/3082267031.py:1: FutureWarning: Treating datetime data as categorical rather than numeric in `.describe` is deprecated and will be removed in a future version of pandas. Specify `datetime_is_numeric=True` to silence this warning and adopt the future behavior now.\n",
      "  print(f\"covidDf: \\n {covidDf['Last_Update'].describe()}\")\n",
      "C:\\Temp/ipykernel_20108/3082267031.py:2: FutureWarning: Treating datetime data as categorical rather than numeric in `.describe` is deprecated and will be removed in a future version of pandas. Specify `datetime_is_numeric=True` to silence this warning and adopt the future behavior now.\n",
      "  print(f\"\\ncovidDfUs: \\n {covidDfUs['Last_Update'].describe()}\")\n"
     ]
    }
   ],
   "source": [
    "print(f\"covidDf: \\n {covidDf['Last_Update'].describe()}\")\n",
    "print(f\"\\ncovidDfUs: \\n {covidDfUs['Last_Update'].describe()}\")"
   ]
  },
  {
   "cell_type": "code",
   "execution_count": 109,
   "metadata": {},
   "outputs": [],
   "source": [
    "covidDf = DropLinesLessThanZero(covidDf, 'Deaths')\n",
    "covidDfUs = DropLinesLessThanZero(covidDfUs, 'Deaths')\n",
    "covidDf = DropLinesLessThanZero(covidDf, 'Recovered')\n",
    "covidDfUs = DropLinesLessThanZero(covidDfUs, 'Active')\n",
    "covidDfUs = DropLinesLessThanZero(covidDfUs, 'Recovered')\n",
    "covidDf = DropLinesLessThanZero(covidDf, 'Active')\n"
   ]
  },
  {
   "cell_type": "code",
   "execution_count": 113,
   "metadata": {},
   "outputs": [],
   "source": [
    "covidDf['Deaths'] = FillMeanValues(covidDf, 'Deaths')\n",
    "covidDf['Recovered'] = FillMeanValues(covidDf, 'Recovered')\n",
    "covidDf['Active'] = FillMeanValues(covidDf, 'Active')\n",
    "covidDfUs['Deaths'] = FillMeanValues(covidDfUs, 'Deaths')\n",
    "covidDfUs['Recovered'] = FillMeanValues(covidDfUs, 'Recovered')\n",
    "covidDfUs['Active'] = FillMeanValues(covidDfUs, 'Active')"
   ]
  },
  {
   "cell_type": "code",
   "execution_count": 119,
   "metadata": {},
   "outputs": [],
   "source": [
    "ChangeColumnType('Deaths', 'int64', covidDf)\n",
    "ChangeColumnType('Deaths', 'int64', covidDfUs)\n",
    "ChangeColumnType('Recovered', 'int64', covidDf)\n",
    "ChangeColumnType('Recovered', 'int64', covidDfUs)\n",
    "ChangeColumnType('Active', 'int64', covidDfUs)\n",
    "ChangeColumnType('Active', 'int64', covidDf)"
   ]
  }
 ],
 "metadata": {
  "interpreter": {
   "hash": "44fa8e266227c2c4a5a2e1ea3fead5e9002fd58a39e751d1552653fef8deed20"
  },
  "kernelspec": {
   "display_name": "Python 3.9.7 64-bit",
   "name": "python3"
  },
  "language_info": {
   "codemirror_mode": {
    "name": "ipython",
    "version": 3
   },
   "file_extension": ".py",
   "mimetype": "text/x-python",
   "name": "python",
   "nbconvert_exporter": "python",
   "pygments_lexer": "ipython3",
   "version": "3.9.7"
  },
  "orig_nbformat": 4
 },
 "nbformat": 4,
 "nbformat_minor": 2
}
